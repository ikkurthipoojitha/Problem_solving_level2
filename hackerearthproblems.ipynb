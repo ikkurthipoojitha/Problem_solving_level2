{
 "cells": [
  {
   "cell_type": "code",
   "execution_count": null,
   "metadata": {},
   "outputs": [],
   "source": [
    "# Prime number\n",
    "number=int(input())\n",
    "i=1\n",
    "l=[]\n",
    "for v in range(1,number):\n",
    "    if v>1 :\n",
    "        for i in range(2,v):\n",
    "            if v%i==0:\n",
    "                break\n",
    "        else:\n",
    "            print(v,sep=\" \",end=\" \")\n",
    "    "
   ]
  },
  {
   "cell_type": "code",
   "execution_count": null,
   "metadata": {},
   "outputs": [],
   "source": [
    "# Palindromic string\n",
    "def palindrome(str):\n",
    "    n=str[::-1]\n",
    "    if n==str:\n",
    "        print(\"YES\")\n",
    "    else:\n",
    "        print(\"NO\")\n",
    "        \n",
    "        \n",
    "k=input()\n",
    "palindrome(k)"
   ]
  },
  {
   "cell_type": "code",
   "execution_count": null,
   "metadata": {},
   "outputs": [],
   "source": [
    "# Count divisors\n",
    "st=input()\n",
    "p=[]\n",
    "p=st.split()\n",
    "l=int(p[0])\n",
    "r=int(p[1])\n",
    "k=int(p[2])\n",
    "c=0\n",
    "for i in range(l,r+1):\n",
    "    if i%k==0:\n",
    "        c=c+1\n",
    "print(c)\n",
    "\n"
   ]
  },
  {
   "cell_type": "code",
   "execution_count": null,
   "metadata": {},
   "outputs": [],
   "source": [
    "# Factorial\n",
    "n = int(input())\n",
    "fact = 1\n",
    "  \n",
    "for i in range(1,n+1): \n",
    "    fact = fact * i \n",
    "      \n",
    "print(fact) "
   ]
  },
  {
   "cell_type": "code",
   "execution_count": null,
   "metadata": {},
   "outputs": [],
   "source": [
    "# Toggle String\n",
    "st=input()\n",
    "k=st.swapcase()\n",
    "print(k)"
   ]
  },
  {
   "cell_type": "code",
   "execution_count": null,
   "metadata": {},
   "outputs": [],
   "source": [
    "# Two strings\n",
    "\n",
    "def twoStrings(S1, S2):\n",
    "    if sorted(S1) == sorted(S2):\n",
    "        return \"YES\"\n",
    "    else:\n",
    "        return \"NO\"\n",
    "        \n",
    "        \n",
    "size = int(input())\n",
    "\n",
    "for i in range(size):\n",
    "    S1, S2 = input().split()\n",
    "    \n",
    "    rs = twoStrings(S1, S2)\n",
    "    print(rs)\n"
   ]
  },
  {
   "cell_type": "code",
   "execution_count": null,
   "metadata": {},
   "outputs": [],
   "source": [
    "# Duration\n",
    "def timeDiff(SH, SM, EH, EM):\n",
    "    tm = abs(((SH * 60) + SM) - ((EH * 60) + EM))\n",
    "    TH = tm // 60\n",
    "    TM = tm %  60\n",
    "    print(TH, TM)\n",
    "# Write your code here\n",
    "N = int(input())\n",
    "\n",
    "for i in range(N):\n",
    "    time = input().split()\n",
    "    SH, SM, EH, EM = int(time[0]), int(time[1]), int(time[2]), int(time[3])\n",
    "    \n",
    "    timeDiff(SH, SM, EH, EM)\n"
   ]
  },
  {
   "cell_type": "code",
   "execution_count": null,
   "metadata": {},
   "outputs": [],
   "source": [
    "# Book of potion making\n",
    "n=input()\n",
    "\n",
    "def book(n):\n",
    "    if len(n)!=10:\n",
    "        print(\"Illegal ISBN\")\n",
    "        return\n",
    "    count=0\n",
    "    s=1\n",
    "    for i in n:\n",
    "        count=count+int(i)*s\n",
    "        s=s+1\n",
    "    if count % 11 ==0:\n",
    "        print(\"Legal ISBN\")\n",
    "    else:\n",
    "        print(\"Illegal ISBN\")\n",
    "        \n",
    "book(n)"
   ]
  },
  {
   "cell_type": "code",
   "execution_count": null,
   "metadata": {},
   "outputs": [],
   "source": [
    "# Play with numbers\n",
    "n=input().split()\n",
    "n[0],n[1] = int(n[0]), int(n[1])\n",
    "\n",
    "a=input().split()\n",
    "sum=[]\n",
    "\n",
    "for i in range(0,n[0]):\n",
    "    if i==0:\n",
    "        sum.append(int(a[i]))\n",
    "    else:\n",
    "        sum.append(int(sum[i-1])+int(a[i]))\n",
    "        \n",
    "#print(sum[n[0]-1])\n",
    "q=[]\n",
    "for k in range(0,n[1]):\n",
    "    inqu=input().split()\n",
    "    i=int(inqu[0])\n",
    "    j=int(inqu[1])\n",
    "    if i>1:\n",
    "        print((sum[j-1]-sum[i-2]) // (j-i+1))\n",
    "    else:\n",
    "        print(sum[j-1] // (j-i+1))\n",
    "        \n",
    "        \n"
   ]
  },
  {
   "cell_type": "code",
   "execution_count": null,
   "metadata": {},
   "outputs": [],
   "source": [
    "# Hello\n",
    "print(\"Hello kirti\")"
   ]
  }
 ],
 "metadata": {
  "kernelspec": {
   "display_name": "Python 3",
   "language": "python",
   "name": "python3"
  },
  "language_info": {
   "codemirror_mode": {
    "name": "ipython",
    "version": 3
   },
   "file_extension": ".py",
   "mimetype": "text/x-python",
   "name": "python",
   "nbconvert_exporter": "python",
   "pygments_lexer": "ipython3",
   "version": "3.7.3"
  }
 },
 "nbformat": 4,
 "nbformat_minor": 2
}
