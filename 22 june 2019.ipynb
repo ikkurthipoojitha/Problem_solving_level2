{
 "cells": [
  {
   "cell_type": "markdown",
   "metadata": {},
   "source": [
    "### File Handling\n",
    "- Basic File data Processing \n",
    "    - Accessing and modifying file data\n",
    "- Character count\n",
    "- Line count\n",
    "- File size\n",
    "- Word count\n",
    "- Unique word count"
   ]
  },
  {
   "cell_type": "code",
   "execution_count": 1,
   "metadata": {
    "scrolled": true
   },
   "outputs": [
    {
     "name": "stdout",
     "output_type": "stream",
     "text": [
      "3\n",
      "3\n",
      "16\n",
      "3\n",
      "0.016\n"
     ]
    }
   ],
   "source": [
    "# Read a file - file should exist(read mode)\n",
    "# write to a file - Existing(append mode) or new file(write mode)\n",
    "\n",
    "def readFile(filePath):\n",
    "    l=0\n",
    "    w=0\n",
    "    letters=0\n",
    "    unique=0\n",
    "    with open(filePath,'r') as f:\n",
    "        for line in f:\n",
    "            words=line.split(' ')\n",
    "            l=l+1\n",
    "            w=w+len(words)\n",
    "            letters=letters+len(line)\n",
    "            for i in words:\n",
    "                if words.count(i)==1:\n",
    "                    unique+=1\n",
    "        print(l)\n",
    "        print(w)\n",
    "        print(letters)\n",
    "        print(unique)\n",
    "        l=letters/1000\n",
    "        print(l)\n",
    "\n",
    " \n",
    "filePath ='datafiles/data.txt'\n",
    "readFile(filePath)"
   ]
  },
  {
   "cell_type": "code",
   "execution_count": 2,
   "metadata": {},
   "outputs": [
    {
     "name": "stdout",
     "output_type": "stream",
     "text": [
      "0.016\n"
     ]
    }
   ],
   "source": [
    "# to find file size\n",
    "import os\n",
    "filePath='datafiles/data.txt'\n",
    "a=os.path.getsize(filePath)\n",
    "a=a/1000\n",
    "print(a)\n"
   ]
  },
  {
   "cell_type": "code",
   "execution_count": null,
   "metadata": {},
   "outputs": [],
   "source": []
  },
  {
   "cell_type": "code",
   "execution_count": null,
   "metadata": {},
   "outputs": [],
   "source": []
  }
 ],
 "metadata": {
  "kernelspec": {
   "display_name": "Python 3",
   "language": "python",
   "name": "python3"
  },
  "language_info": {
   "codemirror_mode": {
    "name": "ipython",
    "version": 3
   },
   "file_extension": ".py",
   "mimetype": "text/x-python",
   "name": "python",
   "nbconvert_exporter": "python",
   "pygments_lexer": "ipython3",
   "version": "3.7.3"
  }
 },
 "nbformat": 4,
 "nbformat_minor": 2
}
