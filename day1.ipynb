{
 "cells": [
  {
   "cell_type": "markdown",
   "metadata": {},
   "source": [
    "# About Markdown\n",
    "* **Bold** \n",
    "* *Italic* \n",
    "* ***BoldItalic***\n",
    "* Normal text\n",
    " * sublist1\n",
    " * sublist2\n",
    " \n",
    " \n",
    "## Ordered list\n",
    "1. Ordered list value1\n",
    "2. Ordered list value2\n",
    "\n",
    "\n",
    "- []option 1\n",
    "- []option 2\n",
    "- [x]option 3\n",
    "\n",
    "## To insert image\n",
    "[jupyterlogo](jupyter.png)\n",
    "\n",
    "## using img tag\n",
    "<img src=\"jupyter.png\" style=\"float:left\">\n",
    "\n",
    "## to display an image on the screen\n",
    "![jupyterlogo](jupyter.png)\n",
    "\n"
   ]
  },
  {
   "cell_type": "code",
   "execution_count": null,
   "metadata": {},
   "outputs": [],
   "source": []
  },
  {
   "cell_type": "code",
   "execution_count": null,
   "metadata": {},
   "outputs": [],
   "source": []
  },
  {
   "cell_type": "code",
   "execution_count": null,
   "metadata": {},
   "outputs": [],
   "source": []
  },
  {
   "cell_type": "code",
   "execution_count": null,
   "metadata": {},
   "outputs": [],
   "source": []
  }
 ],
 "metadata": {
  "kernelspec": {
   "display_name": "Python 3",
   "language": "python",
   "name": "python3"
  },
  "language_info": {
   "codemirror_mode": {
    "name": "ipython",
    "version": 3
   },
   "file_extension": ".py",
   "mimetype": "text/x-python",
   "name": "python",
   "nbconvert_exporter": "python",
   "pygments_lexer": "ipython3",
   "version": "3.7.3"
  }
 },
 "nbformat": 4,
 "nbformat_minor": 2
}
