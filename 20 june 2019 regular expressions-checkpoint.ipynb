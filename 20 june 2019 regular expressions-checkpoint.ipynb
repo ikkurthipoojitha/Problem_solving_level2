{
 "cells": [
  {
   "cell_type": "code",
   "execution_count": null,
   "metadata": {},
   "outputs": [],
   "source": [
    "#### Regular Expressions\n",
    "\n",
    " - Pattern MAtching\n",
    " - Symbolic Notation of a pattern\n",
    "     - Pattern : Format only repeats\n",
    "     - Pattern(RE) represents the set of all values\n",
    " - [0-9] --->> Any digit\n",
    " \n",
    " - [a-z] --->> Any lower case alphabet\n",
    " \n",
    " - [2468] --->> All single digit multiples of 2\n",
    " \n",
    " - ^[0-9]{1}$ --->> only  sigle digit numbers\n",
    " \n",
    "     - ^[0-9]{3}$ --->> only  3 digits\n",
    "     \n",
    " - ^[9876][0-9]{9}$ --->> phone number\n",
    " \n",
    "     - ^[1-9][0-9]*[05]$ --->> multiplies of 5\n",
    "     \n",
    " - ^[0-9]{10}$ ---->> valid 10 digits\n",
    " \n",
    " -  [p][r][i][n][t]$ --->> for accepting only 'print'\n",
    " \n",
    " - (print) ------->>>>>. accepts the word having print(printer,printing,prints)\n",
    " \n",
    " --- ^[6-9][0-9]{9}$|^[0][6-9][0-9]{9}$|^[+][9][1][6-9][0-9][9]$  --->>Phone number\n",
    " \n",
    " \n",
    " - ^[a]...[z]$ --> any string of length 5 starts with 'a' and ends with 'z'\n",
    " \n",
    " \n",
    " -   ^[a].*[z]$ ---> any string  starts with 'a' and ends with 'z'\n",
    " "
   ]
  },
  {
   "cell_type": "code",
   "execution_count": null,
   "metadata": {},
   "outputs": [],
   "source": [
    "# Email validation\n",
    " - username@domain.extension\n",
    " - Username\n",
    "     - Length of username : [6, 15]\n",
    "     - No special characters other than _ .(underscore and dot)\n",
    "     - should not begin and end with _ .\n",
    "     - character set : all digits and  lower case alphabets\n",
    " - domain\n",
    "     - Length of domain : [3, 18]\n",
    "     - No special characters are allowed\n",
    "     - Character set : All digits and lower case alphabets\n",
    " - extension\n",
    "     - Length of extension : [2, 4]  \n",
    "     - No special character \n",
    "     - character set : lower case alphabet\n",
    "     \n",
    "     \n",
    "     \n",
    "  - username pattern : ^[0-9a-z][0-9a-z_.]{5,14}[0-9a-z]$\n",
    "  \n",
    "          -  domain pattern : ^[0-9a-z]{3,18}$\n",
    "          \n",
    "  - extension pattern : [a-z]{2,4}$\n",
    "  \n",
    "          - final pattern :  ^[0-9a-z][0-9a-z_.]{6,15}[0-9a-z]@[0-9a-z]{3,18}.[a-z]{2,4}$"
   ]
  },
  {
   "cell_type": "code",
   "execution_count": null,
   "metadata": {},
   "outputs": [],
   "source": [
    "# Function to validate a phone number \n",
    "\n",
    "import re \n",
    "def phoneNumberValidation(number):\n",
    "    pattern = '^[6-9][0-9]{9}$|^[0][6-9][0-9]{9}$|^[+][9][1][6-9][0-9][9]$'\n",
    "    if re.match(pattern,str(number)):\n",
    "        print(\"valid\")\n",
    "    else:\n",
    "        print(\"invalid number\")\n",
    "        \n",
    "phoneNumberValidation(6305657860)\n"
   ]
  },
  {
   "cell_type": "code",
   "execution_count": null,
   "metadata": {},
   "outputs": [],
   "source": []
  },
  {
   "cell_type": "markdown",
   "metadata": {},
   "source": [
    "### File Handling in python \n",
    "\n",
    "File - Document containing information residing on the permanent storage\n",
    "\n",
    "Types - Text,PDF, CSV etc\n",
    "\n",
    "File I/O\n",
    "\n",
    "Channeling I/O data to files\n",
    "\n",
    "Default I/O channels - keyboard / screen\n",
    "\n",
    "\n",
    "change I/O channel to files for reading and writing\n",
    "\n",
    "Read  a file - input from a file\n",
    "\n",
    "write to a file - output to a file\n",
    "\n",
    "Read / write file - open(filename,mode)\n",
    "\n",
    "\n",
    "\n"
   ]
  },
  {
   "cell_type": "code",
   "execution_count": 5,
   "metadata": {},
   "outputs": [
    {
     "name": "stdout",
     "output_type": "stream",
     "text": [
      "hi\n",
      "hello"
     ]
    }
   ],
   "source": [
    "# Function to read a file\n",
    "\n",
    "def readFile(filename):\n",
    "    f=open(filename,'r')\n",
    "    filedata = f.read()\n",
    "    f.close()\n",
    "    return filedata\n",
    "\n",
    "filename = 'datafiles/untitled.txt'\n",
    "filedata=readFile(filename)\n",
    "#for line in filedata.split('\\n'):\n",
    "#   print(line)\n",
    "\n",
    "def printfilelines(filename):\n",
    "    with open(filename, 'r') as f:\n",
    "        for line in f:\n",
    "            print(line,end=\"\")\n",
    "    return\n",
    "\n",
    "printfilelines(filename)\n"
   ]
  },
  {
   "cell_type": "code",
   "execution_count": 7,
   "metadata": {},
   "outputs": [],
   "source": [
    "# Function to write data into a file\n",
    "\n",
    "def writeintofile(filename,filedata):\n",
    "    with open(filename, 'w') as f :\n",
    "        f.write(filedata)\n",
    "    return \n",
    "\n",
    "filename = 'datafiles/untitled.txt'\n",
    "writeintofile(filename,\"new data\")"
   ]
  },
  {
   "cell_type": "code",
   "execution_count": 10,
   "metadata": {},
   "outputs": [],
   "source": [
    "# Function to append data to a file\n",
    "\n",
    "def appenddatatofile(filename,filedata):\n",
    "    with open(filename,'a') as f:\n",
    "        f.write(filedata)\n",
    "    return\n",
    "\n",
    "filedata=\"Line1\\nLine2\"\n",
    "appenddatatofile(filename,filedata)\n",
    "    "
   ]
  },
  {
   "cell_type": "code",
   "execution_count": null,
   "metadata": {},
   "outputs": [],
   "source": []
  }
 ],
 "metadata": {
  "kernelspec": {
   "display_name": "Python 3",
   "language": "python",
   "name": "python3"
  },
  "language_info": {
   "codemirror_mode": {
    "name": "ipython",
    "version": 3
   },
   "file_extension": ".py",
   "mimetype": "text/x-python",
   "name": "python",
   "nbconvert_exporter": "python",
   "pygments_lexer": "ipython3",
   "version": "3.7.3"
  }
 },
 "nbformat": 4,
 "nbformat_minor": 2
}
