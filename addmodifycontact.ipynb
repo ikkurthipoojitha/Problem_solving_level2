{
 "cells": [
  {
   "cell_type": "code",
   "execution_count": null,
   "metadata": {},
   "outputs": [],
   "source": [
    "# Contact application\n",
    "def addContact():\n",
    "    contact= {}\n",
    "    n= int(input())\n",
    "    for record in range(n):\n",
    "        name=input()\n",
    "        mobile=input()\n",
    "        email=input()\n",
    "        contact[name]=[mobile,email]\n",
    "    with open(\"contact.txt\",\"w\") as data:\n",
    "        for user in contact.items():\n",
    "            data.write(user[0]+\",\"+user[1][0]+\",\"+user[1][1]+\"\\n\")\n",
    "    return \"data added\"\n",
    "    "
   ]
  },
  {
   "cell_type": "code",
   "execution_count": null,
   "metadata": {},
   "outputs": [],
   "source": [
    "def modifyContact(filename):\n",
    "    data_update={}\n",
    "    name=input()\n",
    "    with open(filename,\"r\") as f:\n",
    "        for line in f:\n",
    "            line=line.strip().split(\",\")\n",
    "            if name in line:\n",
    "                mobile=input()\n",
    "                email=input()\n",
    "                line[1]=mobile\n",
    "                line[2]=email\n",
    "                data_update[line[0]]=[line[1],line[2]]\n",
    "            else:\n",
    "                data_update[line[0]]=[line[1],line[2]]\n",
    "                continue\n",
    "    with open(filename,\"w\") as file:\n",
    "            for user in data_update.items():\n",
    "                file.write(user[0]+\",\"+user[1][0]+\",\"+user[1][1]+\"\\n\")\n",
    "                \n",
    "                \n",
    "\n",
    "            \n",
    "            \n",
    "filename=input()\n",
    "modifyContact(filename)"
   ]
  }
 ],
 "metadata": {
  "kernelspec": {
   "display_name": "Python 3",
   "language": "python",
   "name": "python3"
  },
  "language_info": {
   "codemirror_mode": {
    "name": "ipython",
    "version": 3
   },
   "file_extension": ".py",
   "mimetype": "text/x-python",
   "name": "python",
   "nbconvert_exporter": "python",
   "pygments_lexer": "ipython3",
   "version": "3.7.3"
  }
 },
 "nbformat": 4,
 "nbformat_minor": 2
}
