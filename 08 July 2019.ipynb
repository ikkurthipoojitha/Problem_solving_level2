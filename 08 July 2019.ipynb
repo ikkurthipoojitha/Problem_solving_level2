{
 "cells": [
  {
   "cell_type": "code",
   "execution_count": 2,
   "metadata": {},
   "outputs": [
    {
     "name": "stdout",
     "output_type": "stream",
     "text": [
      "6\n",
      "20\n",
      "6\n",
      "12\n",
      "18\n"
     ]
    }
   ],
   "source": [
    "# Function to print all numbers divisible by 6 \n",
    "# and not a factor of 100 in a given range(lb, ub) inclusive.\n",
    "for i in range(int(input()),int(input())+1):\n",
    "    if i%6==0 and i%100 != 0:\n",
    "        print(i)"
   ]
  },
  {
   "cell_type": "code",
   "execution_count": 5,
   "metadata": {
    "scrolled": true
   },
   "outputs": [
    {
     "name": "stdout",
     "output_type": "stream",
     "text": [
      "2\n",
      "4\n"
     ]
    },
    {
     "data": {
      "text/plain": [
       "36.0"
      ]
     },
     "execution_count": 5,
     "metadata": {},
     "output_type": "execute_result"
    }
   ],
   "source": [
    "# Function to find the average of cubes of all even numbers in a given range(lb, ub) inclusive\n",
    "def evenCubesAverage(l):\n",
    "    return sum([i**3 for i in l])/len(l)\n",
    "\n",
    "l=[]\n",
    "for i in range(int(input()),int(input())+1):\n",
    "    if i%2==0:\n",
    "        l.append(i)\n",
    "evenCubesAverage(l)"
   ]
  },
  {
   "cell_type": "code",
   "execution_count": 6,
   "metadata": {},
   "outputs": [
    {
     "name": "stdout",
     "output_type": "stream",
     "text": [
      "4\n"
     ]
    },
    {
     "data": {
      "text/plain": [
       "[1, 2, 4]"
      ]
     },
     "execution_count": 6,
     "metadata": {},
     "output_type": "execute_result"
    }
   ],
   "source": [
    "# Function to generate the list of factors for a given number\n",
    "def factors(n):\n",
    "    l=[]\n",
    "    for i in range(1,n+1):\n",
    "        if n%i==0:\n",
    "            l.append(i)\n",
    "    return l\n",
    "\n",
    "factors(int(input()))"
   ]
  },
  {
   "cell_type": "code",
   "execution_count": 5,
   "metadata": {},
   "outputs": [
    {
     "name": "stdout",
     "output_type": "stream",
     "text": [
      "5\n"
     ]
    },
    {
     "data": {
      "text/plain": [
       "120"
      ]
     },
     "execution_count": 5,
     "metadata": {},
     "output_type": "execute_result"
    }
   ],
   "source": [
    "#Function to calculate the factorial of a given number\n",
    "\n",
    "def factorial(n):\n",
    "    s=1\n",
    "    for i in range(1,n+1):\n",
    "        s *=i\n",
    "    return s\n",
    "factorial(int(input()))"
   ]
  },
  {
   "cell_type": "code",
   "execution_count": 9,
   "metadata": {},
   "outputs": [
    {
     "name": "stdout",
     "output_type": "stream",
     "text": [
      "7\n"
     ]
    },
    {
     "data": {
      "text/plain": [
       "'Prime'"
      ]
     },
     "execution_count": 9,
     "metadata": {},
     "output_type": "execute_result"
    }
   ],
   "source": [
    "# Function to check if a given number is Prime\n",
    "\n",
    "def isprime(n):\n",
    "    c=0\n",
    "    for i in range(2,n):\n",
    "        if n%i==0:\n",
    "            c +=1\n",
    "    if c==0:\n",
    "        return \"Prime\"\n",
    "    else:\n",
    "        return \"Not prime\"\n",
    "isprime(int(input()))"
   ]
  },
  {
   "cell_type": "code",
   "execution_count": 14,
   "metadata": {},
   "outputs": [
    {
     "name": "stdout",
     "output_type": "stream",
     "text": [
      "3\n",
      "3.3333333333333335\n"
     ]
    }
   ],
   "source": [
    "# Function to calculate the average first N Prime numbers\n",
    "def AverageNPrimes(n):\n",
    "    p=2\n",
    "    count=0\n",
    "    l=[]\n",
    "    while(n!=count):\n",
    "        c=0\n",
    "        for i in range(2,p):\n",
    "            if p%i==0:\n",
    "                c+=1\n",
    "        if c==0:\n",
    "            l.append(p)\n",
    "            count+=1\n",
    "        p=p+1\n",
    "    return l\n",
    "n=int(input())\n",
    "k=AverageNPrimes(n)\n",
    "print(sum(k)/n)    "
   ]
  },
  {
   "cell_type": "code",
   "execution_count": 16,
   "metadata": {},
   "outputs": [
    {
     "name": "stdout",
     "output_type": "stream",
     "text": [
      "1\n",
      "100\n",
      "6\n",
      "28\n"
     ]
    }
   ],
   "source": [
    "# Function to generate all Perfect numbers in a given range\n",
    "def isperfect(n):\n",
    "    c=0\n",
    "    for i in range(1,n):\n",
    "        if n%i==0:\n",
    "            c+=i\n",
    "    return (True if c==n and n!=1 else False)\n",
    "for i in range(int(input()),int(input())+1):\n",
    "    if isperfect(i):\n",
    "        print(i)"
   ]
  },
  {
   "cell_type": "code",
   "execution_count": 17,
   "metadata": {},
   "outputs": [
    {
     "name": "stdout",
     "output_type": "stream",
     "text": [
      "1\n",
      "3\n",
      "1.5\n"
     ]
    }
   ],
   "source": [
    "#Function to calculate the average of all factorials in a given range\n",
    "\n",
    "def fact(n):\n",
    "    s=1\n",
    "    for i in range(1,n+1):\n",
    "        s *=i\n",
    "    return s\n",
    "a=int(input())\n",
    "b=int(input())\n",
    "s=0\n",
    "for i in range(a,b):\n",
    "    s=s+fact(i)\n",
    "print(s/(b-a))"
   ]
  },
  {
   "cell_type": "code",
   "execution_count": 5,
   "metadata": {},
   "outputs": [
    {
     "name": "stdout",
     "output_type": "stream",
     "text": [
      "1\n",
      "153\n"
     ]
    }
   ],
   "source": [
    "#Function to generate N odd Armstrong numbers\n",
    "\n",
    "def isArmstrong(n):\n",
    "    parts = [int(i) for i in str(n)]\n",
    "    counter = 0\n",
    "    for i in parts: \n",
    "        counter += i**3\n",
    "    return (True if counter == n and n!=1 else False )\n",
    "a=int(input())\n",
    "i=c=0\n",
    "while c!=a:\n",
    "    if i&1 and isArmstrong(i):\n",
    "        print(i)\n",
    "        c+=1\n",
    "    i += 1"
   ]
  },
  {
   "cell_type": "code",
   "execution_count": 11,
   "metadata": {},
   "outputs": [
    {
     "name": "stdout",
     "output_type": "stream",
     "text": [
      "10\n",
      "100\n",
      "102\n",
      "10*100=1000\n",
      "10*101=1010\n",
      "10*102=1020\n"
     ]
    }
   ],
   "source": [
    "#Function to generate Multiplication table for a number in a given range\n",
    "\n",
    "def table(n,s,e):\n",
    "    for i in range(s,e+1):\n",
    "        print(\"{}*{}={}\".format(n,i,n*i))\n",
    "n=int(input())\n",
    "s=int(input())\n",
    "e=int(input())\n",
    "table(n,s,e)"
   ]
  },
  {
   "cell_type": "code",
   "execution_count": 14,
   "metadata": {},
   "outputs": [
    {
     "name": "stdout",
     "output_type": "stream",
     "text": [
      "IiIt NuZvId\n",
      "iIiT nUzViD\n"
     ]
    }
   ],
   "source": [
    "#You are given a string and your task is to swap cases. In other words, convert all \n",
    "#lowercase letters to uppercase letters and vice versa. \n",
    "#(The String may contain special characters).\n",
    "\n",
    "s=input()\n",
    "print(s.swapcase())"
   ]
  },
  {
   "cell_type": "code",
   "execution_count": 16,
   "metadata": {},
   "outputs": [
    {
     "name": "stdout",
     "output_type": "stream",
     "text": [
      "1\n",
      "Weird\n"
     ]
    }
   ],
   "source": [
    "#Given an integer, ’n’ , perform the following conditional actions:\n",
    "#If ‘n’  is odd, print Weird\n",
    "#If  ‘n’ is even and in the inclusive range of 2 to 5, print Not Weird\n",
    "#If  ‘n’ is even and in the inclusive range of 6 to 20 , print Weird\n",
    "#If  ‘n’ is even and greater than 20, print Not Weird\n",
    "\n",
    "n=int(input())\n",
    "if n&1:\n",
    "    print(\"Weird\")\n",
    "elif n%2==0 and n>=2 and n<=5:\n",
    "    print(\"Not Weird\")\n",
    "elif n%2==0 and n>=6 and n<=20:\n",
    "    print(\"Weird\")\n",
    "else:\n",
    "    print(\"Not Weird\")"
   ]
  },
  {
   "cell_type": "code",
   "execution_count": null,
   "metadata": {},
   "outputs": [],
   "source": []
  }
 ],
 "metadata": {
  "kernelspec": {
   "display_name": "Python 3",
   "language": "python",
   "name": "python3"
  },
  "language_info": {
   "codemirror_mode": {
    "name": "ipython",
    "version": 3
   },
   "file_extension": ".py",
   "mimetype": "text/x-python",
   "name": "python",
   "nbconvert_exporter": "python",
   "pygments_lexer": "ipython3",
   "version": "3.7.3"
  }
 },
 "nbformat": 4,
 "nbformat_minor": 2
}
