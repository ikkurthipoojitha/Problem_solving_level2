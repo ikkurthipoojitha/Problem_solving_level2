{
 "cells": [
  {
   "cell_type": "code",
   "execution_count": 12,
   "metadata": {},
   "outputs": [
    {
     "name": "stdout",
     "output_type": "stream",
     "text": [
      "python\n",
      "occurence count of a word:  3\n"
     ]
    }
   ],
   "source": [
    "import re\n",
    "def searchWord(s):\n",
    "    c=0\n",
    "    with open('datafiles/wordfile.txt','r') as f:\n",
    "        for line in f:\n",
    "            words=line.split()\n",
    "            for i in words:\n",
    "                if re.search(\"^\"+s+\"$\",i):\n",
    "                    c+=1\n",
    "    print(\"occurence count of a word: \",c)\n",
    "        \n",
    "        \n",
    "#s=input()    \n",
    "searchWord(s)"
   ]
  },
  {
   "cell_type": "code",
   "execution_count": null,
   "metadata": {},
   "outputs": [],
   "source": []
  },
  {
   "cell_type": "code",
   "execution_count": 31,
   "metadata": {},
   "outputs": [
    {
     "name": "stdout",
     "output_type": "stream",
     "text": [
      "python\n",
      "java\n",
      "java is\n",
      "\n",
      "a\n",
      "\n",
      "programming languge\n",
      "\n",
      "java is easy\n",
      "\n",
      "java\n",
      "\n"
     ]
    }
   ],
   "source": [
    "def wordReplace(s,n):\n",
    "    l=\"\"\n",
    "    with open('datafiles/wordfile.txt','r') as f:\n",
    "        for line in f:\n",
    "            l+=line.replace(s,n)\n",
    "            l+=\"\\n\"\n",
    "        print(l)\n",
    "    with open('datafiles/wordfile.txt','w') as f:\n",
    "        f.write(l)\n",
    "\n",
    "\n",
    "s=input()  \n",
    "n=input()\n",
    "wordReplace(s,n)\n",
    "            "
   ]
  },
  {
   "cell_type": "code",
   "execution_count": null,
   "metadata": {},
   "outputs": [],
   "source": []
  },
  {
   "cell_type": "code",
   "execution_count": null,
   "metadata": {},
   "outputs": [],
   "source": []
  }
 ],
 "metadata": {
  "kernelspec": {
   "display_name": "Python 3",
   "language": "python",
   "name": "python3"
  },
  "language_info": {
   "codemirror_mode": {
    "name": "ipython",
    "version": 3
   },
   "file_extension": ".py",
   "mimetype": "text/x-python",
   "name": "python",
   "nbconvert_exporter": "python",
   "pygments_lexer": "ipython3",
   "version": "3.7.3"
  }
 },
 "nbformat": 4,
 "nbformat_minor": 2
}
