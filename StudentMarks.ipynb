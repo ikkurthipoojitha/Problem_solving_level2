{
 "cells": [
  {
   "cell_type": "code",
   "execution_count": 1,
   "metadata": {},
   "outputs": [],
   "source": [
    "from random import randint\n",
    "\n",
    "def generateMarks(n,lb,ub):\n",
    "    with open('datafiles/marks.txt','w') as f:\n",
    "        for i in range(0,n):\n",
    "            r=randint(lb,ub)\n",
    "            f.write(str(r) + '\\n')\n",
    "    return\n",
    "\n",
    "\n"
   ]
  },
  {
   "cell_type": "code",
   "execution_count": 2,
   "metadata": {},
   "outputs": [],
   "source": [
    "def distinctionMarks(filepath):\n",
    "    c=0\n",
    "    with open(filepath,'r') as f:\n",
    "        for i in f:\n",
    "            if i>='70':\n",
    "                c+=1\n",
    "        print(\"students with distinction\",c)\n",
    "        \n",
    "        \n",
    "#filepath='datafiles/marks.txt'\n"
   ]
  },
  {
   "cell_type": "code",
   "execution_count": 3,
   "metadata": {},
   "outputs": [],
   "source": [
    "def averageMarks(filepath):\n",
    "    av=0\n",
    "    with open(filepath,'r') as f:\n",
    "        for i in f:\n",
    "            j=int(i)\n",
    "            av+=j\n",
    "        s=av/100\n",
    "        print(\"average marks\",s)\n",
    "        \n",
    "        \n",
    "#filepath='datafiles/marks.txt'\n",
    "\n",
    "            \n",
    "    \n",
    "    "
   ]
  },
  {
   "cell_type": "code",
   "execution_count": 4,
   "metadata": {},
   "outputs": [],
   "source": [
    "def highestMark(filepath):\n",
    "    with open(filepath,'r') as f:\n",
    "        l=list(f)\n",
    "        k=l.count(max(l))\n",
    "        print(\"Highest mark frequency\",k)\n",
    "        \n",
    "        \n",
    "#filepath='datafiles/marks.txt'\n"
   ]
  },
  {
   "cell_type": "code",
   "execution_count": 5,
   "metadata": {},
   "outputs": [],
   "source": [
    "def lowestMark(filepath):\n",
    "    with open(filepath,'r') as f:\n",
    "        l=list(f)\n",
    "        k=l.count(min(l))\n",
    "        print(\"lowest mark frequency\",k)\n",
    "        \n",
    "        \n",
    "#filepath='datafiles/marks.txt'\n"
   ]
  },
  {
   "cell_type": "code",
   "execution_count": 6,
   "metadata": {},
   "outputs": [],
   "source": [
    "def passedCount(filepath):\n",
    "    c=0\n",
    "    with open(filepath,'r') as f:\n",
    "        for i in f:\n",
    "            if i>'35':\n",
    "                c+=1\n",
    "        print(\"Passed students count\",c)\n",
    "        \n",
    "        \n",
    "        \n",
    "#filepath='datafiles/marks.txt'\n"
   ]
  },
  {
   "cell_type": "code",
   "execution_count": 7,
   "metadata": {},
   "outputs": [],
   "source": [
    "def failedCount(filepath):\n",
    "    c=0\n",
    "    with open(filepath,'r') as f:\n",
    "        for i in f:\n",
    "            if i<'35':\n",
    "                c+=1\n",
    "        print(\"Failed students count\",c)\n",
    "        \n",
    "        \n",
    "        \n"
   ]
  },
  {
   "cell_type": "code",
   "execution_count": 9,
   "metadata": {},
   "outputs": [],
   "source": [
    "def marksReport(filepath):\n",
    "    generateMarks(7,1,100)\n",
    "    distinctionMarks(filepath)\n",
    "    averageMarks(filepath)\n",
    "    highestMark(filepath)\n",
    "    lowestMark(filepath)\n",
    "    passedCount(filepath)\n",
    "    failedCount(filepath)\n",
    "    \n",
    "    \n",
    "filepath='datafiles/marks.txt'"
   ]
  },
  {
   "cell_type": "code",
   "execution_count": null,
   "metadata": {},
   "outputs": [],
   "source": []
  },
  {
   "cell_type": "code",
   "execution_count": null,
   "metadata": {},
   "outputs": [],
   "source": []
  }
 ],
 "metadata": {
  "kernelspec": {
   "display_name": "Python 3",
   "language": "python",
   "name": "python3"
  },
  "language_info": {
   "codemirror_mode": {
    "name": "ipython",
    "version": 3
   },
   "file_extension": ".py",
   "mimetype": "text/x-python",
   "name": "python",
   "nbconvert_exporter": "python",
   "pygments_lexer": "ipython3",
   "version": "3.7.3"
  }
 },
 "nbformat": 4,
 "nbformat_minor": 2
}
