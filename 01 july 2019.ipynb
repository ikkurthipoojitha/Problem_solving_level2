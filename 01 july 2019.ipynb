{
 "cells": [
  {
   "cell_type": "code",
   "execution_count": 9,
   "metadata": {},
   "outputs": [
    {
     "data": {
      "text/html": [
       "<div>\n",
       "<style scoped>\n",
       "    .dataframe tbody tr th:only-of-type {\n",
       "        vertical-align: middle;\n",
       "    }\n",
       "\n",
       "    .dataframe tbody tr th {\n",
       "        vertical-align: top;\n",
       "    }\n",
       "\n",
       "    .dataframe thead th {\n",
       "        text-align: right;\n",
       "    }\n",
       "</style>\n",
       "<table border=\"1\" class=\"dataframe\">\n",
       "  <thead>\n",
       "    <tr style=\"text-align: right;\">\n",
       "      <th></th>\n",
       "      <th>GEOID</th>\n",
       "      <th>State</th>\n",
       "      <th>2005</th>\n",
       "      <th>2006</th>\n",
       "      <th>2007</th>\n",
       "      <th>2008</th>\n",
       "      <th>2009</th>\n",
       "      <th>2010</th>\n",
       "      <th>2011</th>\n",
       "      <th>2012</th>\n",
       "      <th>2013</th>\n",
       "    </tr>\n",
       "  </thead>\n",
       "  <tbody>\n",
       "    <tr>\n",
       "      <th>0</th>\n",
       "      <td>04000US01</td>\n",
       "      <td>Alabama</td>\n",
       "      <td>37150</td>\n",
       "      <td>37952</td>\n",
       "      <td>42212</td>\n",
       "      <td>44476</td>\n",
       "      <td>39980</td>\n",
       "      <td>40933</td>\n",
       "      <td>42590</td>\n",
       "      <td>43464</td>\n",
       "      <td>41381</td>\n",
       "    </tr>\n",
       "    <tr>\n",
       "      <th>1</th>\n",
       "      <td>04000US02</td>\n",
       "      <td>Alaska</td>\n",
       "      <td>55891</td>\n",
       "      <td>56418</td>\n",
       "      <td>62993</td>\n",
       "      <td>63989</td>\n",
       "      <td>61604</td>\n",
       "      <td>57848</td>\n",
       "      <td>57431</td>\n",
       "      <td>63648</td>\n",
       "      <td>61137</td>\n",
       "    </tr>\n",
       "    <tr>\n",
       "      <th>2</th>\n",
       "      <td>04000US04</td>\n",
       "      <td>Arizona</td>\n",
       "      <td>45245</td>\n",
       "      <td>46657</td>\n",
       "      <td>47215</td>\n",
       "      <td>46914</td>\n",
       "      <td>45739</td>\n",
       "      <td>46896</td>\n",
       "      <td>48621</td>\n",
       "      <td>47044</td>\n",
       "      <td>50602</td>\n",
       "    </tr>\n",
       "    <tr>\n",
       "      <th>3</th>\n",
       "      <td>04000US05</td>\n",
       "      <td>Arkansas</td>\n",
       "      <td>36658</td>\n",
       "      <td>37057</td>\n",
       "      <td>40795</td>\n",
       "      <td>39586</td>\n",
       "      <td>36538</td>\n",
       "      <td>38587</td>\n",
       "      <td>41302</td>\n",
       "      <td>39018</td>\n",
       "      <td>39919</td>\n",
       "    </tr>\n",
       "    <tr>\n",
       "      <th>4</th>\n",
       "      <td>04000US06</td>\n",
       "      <td>California</td>\n",
       "      <td>51755</td>\n",
       "      <td>55319</td>\n",
       "      <td>55734</td>\n",
       "      <td>57014</td>\n",
       "      <td>56134</td>\n",
       "      <td>54283</td>\n",
       "      <td>53367</td>\n",
       "      <td>57020</td>\n",
       "      <td>57528</td>\n",
       "    </tr>\n",
       "  </tbody>\n",
       "</table>\n",
       "</div>"
      ],
      "text/plain": [
       "       GEOID       State   2005   2006   2007   2008   2009   2010   2011  \\\n",
       "0  04000US01     Alabama  37150  37952  42212  44476  39980  40933  42590   \n",
       "1  04000US02      Alaska  55891  56418  62993  63989  61604  57848  57431   \n",
       "2  04000US04     Arizona  45245  46657  47215  46914  45739  46896  48621   \n",
       "3  04000US05    Arkansas  36658  37057  40795  39586  36538  38587  41302   \n",
       "4  04000US06  California  51755  55319  55734  57014  56134  54283  53367   \n",
       "\n",
       "    2012   2013  \n",
       "0  43464  41381  \n",
       "1  63648  61137  \n",
       "2  47044  50602  \n",
       "3  39018  39919  \n",
       "4  57020  57528  "
      ]
     },
     "execution_count": 9,
     "metadata": {},
     "output_type": "execute_result"
    }
   ],
   "source": [
    "# Reading CSV file data\n",
    "import pandas as pd\n",
    "filepath = 'datafiles/income.csv'\n",
    "incomedf = pd.read_csv(filepath)\n",
    "incomedf"
   ]
  },
  {
   "cell_type": "code",
   "execution_count": null,
   "metadata": {},
   "outputs": [],
   "source": []
  },
  {
   "cell_type": "code",
   "execution_count": 2,
   "metadata": {},
   "outputs": [
    {
     "name": "stdout",
     "output_type": "stream",
     "text": [
      "47314.0\n"
     ]
    }
   ],
   "source": [
    "#1 Combined Average Income of all states from 2005 to 2013\n",
    "def income_of_all_states():\n",
    "    s = 0\n",
    "    c = 0\n",
    "    li=[]\n",
    "    for i in range(0,5):\n",
    "        for j in range(2,11):\n",
    "            s += incomedf.values[i][j]\n",
    "            c+=1\n",
    "        f=s/c\n",
    "        li.append(f)\n",
    "    avg=sum(li)//len(li)\n",
    "    print(avg)\n",
    "    \n",
    "        #g=incomedf.values[i][1]\n",
    "        #d[g]=f\n",
    "        #print(incomedf.values[i][1],\":\",f)\n",
    "        \n",
    "\n",
    "income_of_all_states()"
   ]
  },
  {
   "cell_type": "code",
   "execution_count": 3,
   "metadata": {},
   "outputs": [
    {
     "name": "stdout",
     "output_type": "stream",
     "text": [
      "Alaska : 51608.5\n"
     ]
    }
   ],
   "source": [
    "#2 function to print highest income in last 3 years\n",
    "def high_avg_income_in_last_Nyears(n):\n",
    "    sum = 0\n",
    "    c=0\n",
    "    d={}\n",
    "    for i in range(0,5):\n",
    "        for j in range(-1,-n-1,-1): \n",
    "            sum += incomedf.values[i][j]\n",
    "            c+=1\n",
    "        #print(c)\n",
    "        f=sum/c\n",
    "        g=incomedf.values[i][1]\n",
    "        d[g]=f\n",
    "    \n",
    "    #print(d)\n",
    "    for i in d:\n",
    "        if d[i]==max(d.values()):\n",
    "            print(i,\":\",d[i])\n",
    "            #return i\n",
    "high_avg_income_in_last_Nyears(3)"
   ]
  },
  {
   "cell_type": "code",
   "execution_count": 4,
   "metadata": {},
   "outputs": [
    {
     "data": {
      "text/plain": [
       "4"
      ]
     },
     "execution_count": 4,
     "metadata": {},
     "output_type": "execute_result"
    }
   ],
   "source": [
    "def getcolumnindex(df,columnkey):\n",
    "    columnindex=0\n",
    "    for i in range(len(df.columns)):\n",
    "        if df.columns[i]==columnkey:\n",
    "            columnindex=i\n",
    "    \n",
    "    return columnindex\n",
    "getcolumnindex(incomedf,\"2007\")\n",
    "#print(incomedf.columns)"
   ]
  },
  {
   "cell_type": "code",
   "execution_count": null,
   "metadata": {},
   "outputs": [],
   "source": []
  },
  {
   "cell_type": "code",
   "execution_count": 12,
   "metadata": {},
   "outputs": [
    {
     "name": "stdout",
     "output_type": "stream",
     "text": [
      "Arkansas\n"
     ]
    }
   ],
   "source": [
    "#3 State with lowest average income from 2007 to 2010(inclusive)\n",
    "col_name='State'\n",
    "start_yr=getcolumnindex(incomedf,'2005')\n",
    "end_yr=getcolumnindex(incomedf,'2013')\n",
    "def minincome(df,row_name,start_yr,end_yr):\n",
    "    values=df.values\n",
    "    incomel=[]\n",
    "    for i in values:\n",
    "        if row_name in i:\n",
    "            for j in range(start_yr,end_yr+1):\n",
    "                    incomel.append(i[j])\n",
    "#     print('minimum in %s'%row_name,min(incomel))\n",
    "    return min(incomel)\n",
    "\n",
    "def keysToValues(state_in):\n",
    "    n_state_in={}\n",
    "    for k,v in state_in.items():\n",
    "        n_state_in[v]=k\n",
    "    return n_state_in\n",
    "def getavgofallstates(df,col_name):\n",
    "    state_min={}\n",
    "    colvalues=df[col_name].unique()\n",
    "    for c in colvalues:\n",
    "        x=minincome(df,c,start_yr,end_yr)\n",
    "        state_min[c]=x\n",
    "#     print(state_min)\n",
    "    sorted_vals=sorted(state_min.values())\n",
    "#     print(sorted_vals)\n",
    "    min=sorted_vals[0]\n",
    "#     print(min)\n",
    "    nstate_min=keysToValues(state_min)\n",
    "#     print(nstate_min)\n",
    "    for k in nstate_min.keys():\n",
    "        if min == k:\n",
    "            print(nstate_min[k])\n",
    "    return \n",
    "# average(df,'Alaska',fromind,toind)\n",
    "getavgofallstates(incomedf,'State')"
   ]
  },
  {
   "cell_type": "code",
   "execution_count": null,
   "metadata": {},
   "outputs": [],
   "source": []
  },
  {
   "cell_type": "code",
   "execution_count": 17,
   "metadata": {},
   "outputs": [
    {
     "name": "stdout",
     "output_type": "stream",
     "text": [
      "California average 55350.444444444445\n"
     ]
    },
    {
     "data": {
      "text/plain": [
       "['Alabama', 'Arizona', 'Arkansas']"
      ]
     },
     "execution_count": 17,
     "metadata": {},
     "output_type": "execute_result"
    }
   ],
   "source": [
    "#4 Print the list of all states in the same line with average income lessthan California\n",
    "\n",
    "def averageOfCalifornia(incomedf,row_name,start_yr,end_yr):\n",
    "    values=incomedf.values\n",
    "    sum=0\n",
    "    count=0\n",
    "    for i in values:\n",
    "        if row_name in i:\n",
    "            for j in range(start_yr,end_yr+1):\n",
    "                sum=sum+i[j]\n",
    "                count=count+1\n",
    "    return sum/count\n",
    "row_name='California'\n",
    "start_yr=getcolumnindex(incomedf,'2005')\n",
    "end_yr=getcolumnindex(incomedf,'2013')\n",
    "\n",
    "avg_california=averageOfCalifornia(incomedf,row_name,start_yr,end_yr)\n",
    "print(\"California average\",avg_california)\n",
    "\n",
    "def averageOfAllLessThanCalifornia(incomedf,avg_california,col_name):\n",
    "    columns=incomedf[col_name].unique()\n",
    "    state_name=[]\n",
    "    state_dict={}\n",
    "    for c in columns:\n",
    "        if c!='California':\n",
    "            x=averageOfCalifornia(incomedf,c,start_yr,end_yr)\n",
    "            state_dict[c]=x\n",
    "            if x<avg_california:\n",
    "                state_name.append(c)\n",
    "    return state_name\n",
    "averageOfAllLessThanCalifornia(incomedf,avg_california,'State')"
   ]
  },
  {
   "cell_type": "code",
   "execution_count": 19,
   "metadata": {},
   "outputs": [
    {
     "name": "stdout",
     "output_type": "stream",
     "text": [
      "Alaska California Arizona Alabama Arkansas "
     ]
    }
   ],
   "source": [
    "# function to  Print the names of states based on descending order of income in the year 2009\n",
    "\n",
    "def descending_order_of_income(a):\n",
    "    a=getcolumnindex(incomedf,str(a))\n",
    "    d={}\n",
    "    for i in range(0,5):\n",
    "        b=incomedf.values[i][1]\n",
    "        d[b]=incomedf.values[i][a]\n",
    "    #print(d)\n",
    "    l=sorted(d.values())\n",
    "    for i in range(-1,-len(l)-1,-1):\n",
    "        for j in d:\n",
    "            if d[j]==l[i]:\n",
    "                print(j,end=\" \")\n",
    "        \n",
    "        \n",
    "descending_order_of_income(2009)"
   ]
  },
  {
   "cell_type": "code",
   "execution_count": null,
   "metadata": {},
   "outputs": [],
   "source": []
  },
  {
   "cell_type": "code",
   "execution_count": null,
   "metadata": {},
   "outputs": [],
   "source": [
    "incomedf.values[0][1]\n",
    "getcolumnindex(incomedf,\"2009\")\n",
    "l=[1,9,3,5,3,7,9,5,]\n",
    "print(sorted(l))"
   ]
  },
  {
   "cell_type": "code",
   "execution_count": 18,
   "metadata": {},
   "outputs": [
    {
     "name": "stdout",
     "output_type": "stream",
     "text": [
      "Arkansas\n"
     ]
    }
   ],
   "source": [
    "#6 function to print State with the lowest recorded income from 2005 to 2013\n",
    "def lowest_income_state():\n",
    "    a=[]\n",
    "    for row in incomedf.values:\n",
    "        a.append(min(row[2:]))\n",
    "    #print(min(a))\n",
    "    for i in range(0,5):\n",
    "        for j in range(2,11):\n",
    "            if incomedf.values[i][j]==min(a):\n",
    "                print(incomedf.values[i][1])\n",
    "lowest_income_state()"
   ]
  },
  {
   "cell_type": "code",
   "execution_count": null,
   "metadata": {},
   "outputs": [],
   "source": []
  },
  {
   "cell_type": "markdown",
   "metadata": {},
   "source": [
    "###Practice on Income Dataset\n",
    "- Define functions for the following data points\n",
    "\n",
    "        - Combined Average Income of all states from 2005 to 2013\n",
    "            Answer = 48525\n",
    "        - State with highest average income in the last three years\n",
    "            Answer = Alaska\n",
    "        - State with lowest average income from 2007 to 2010(inclusive)\n",
    "            Answer = Arkansas\n",
    "        - Print the list of all states in the same line with average income less than California\n",
    "            Answer = Alabama Arizona Arkansas \n",
    "        - Print the names of states based on descending order of income in the year 2009\n",
    "            Answer = Alaska California Arizona Alabama Arkansas\n",
    "        - State with the lowest recorded income from 2005 to 2013\n",
    "            Answer = Arkansas"
   ]
  },
  {
   "cell_type": "code",
   "execution_count": null,
   "metadata": {},
   "outputs": [],
   "source": []
  }
 ],
 "metadata": {
  "kernelspec": {
   "display_name": "Python 3",
   "language": "python",
   "name": "python3"
  },
  "language_info": {
   "codemirror_mode": {
    "name": "ipython",
    "version": 3
   },
   "file_extension": ".py",
   "mimetype": "text/x-python",
   "name": "python",
   "nbconvert_exporter": "python",
   "pygments_lexer": "ipython3",
   "version": "3.7.3"
  }
 },
 "nbformat": 4,
 "nbformat_minor": 2
}
