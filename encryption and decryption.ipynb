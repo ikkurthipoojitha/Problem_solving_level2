{
 "cells": [
  {
   "cell_type": "markdown",
   "metadata": {},
   "source": [
    "### Data Encryption\n",
    "\n",
    "- key-Mapping of characters with replaced characters\n",
    "\n",
    "0 -> 4\n",
    "\n",
    "1 -> 5\n",
    "\n",
    "2 -> 6\n",
    "\n",
    "3 -> 7\n",
    "\n",
    "4 -> 8\n",
    "\n",
    "5 -> 9\n",
    "\n",
    "6 -> 0\n",
    "\n",
    "7 -> 1\n",
    "\n",
    "8 -> 2\n",
    "\n",
    "9 -> 3\n",
    "\n",
    "\n",
    "\n",
    "0 4 \n",
    "\n",
    "1 5\n",
    "\n",
    "...."
   ]
  },
  {
   "cell_type": "code",
   "execution_count": 1,
   "metadata": {},
   "outputs": [],
   "source": [
    "# Function to generate key for encryption\n",
    "keypath = 'datafiles/key.txt'\n",
    "def generateKey(keypath):\n",
    "    with open(keypath,'w') as f:\n",
    "        for i in range(0,10):\n",
    "            if i < 6:\n",
    "                f.write(str(i)+' '+str(i+4)+'\\n')\n",
    "            else:\n",
    "                f.write(str(i)+' '+str(i-6)+'\\n')\n",
    "    return\n",
    "generateKey(keypath)"
   ]
  },
  {
   "cell_type": "code",
   "execution_count": 2,
   "metadata": {},
   "outputs": [],
   "source": [
    "# Function to encrypt a data file\n",
    "keyfile='datafiles/key.txt'\n",
    "def dictionaryKeyFile(keyfile):\n",
    "    key={}\n",
    "    with open(keyfile,'r') as f:\n",
    "        for line in f:\n",
    "            line=line.split()\n",
    "            key[line[0]]=line[1]\n",
    "    return key\n",
    "    \n",
    "    \n",
    "#dictionaryKeyFile(keyfile)\n",
    "\n",
    "def encryptMarksData(datafile,keyfile):\n",
    "    key=dictionaryKeyFile(keyfile)\n",
    "    with open(datafile,'r') as f :\n",
    "        filedata=f.read().split()\n",
    "    with open('datafiles/encryptedmarks.txt','w') as f:\n",
    "        for mark in filedata:\n",
    "            line=''\n",
    "            for n in mark:\n",
    "                line+=key[n]\n",
    "            f.write(line+'\\n')\n",
    "    return\n",
    "                \n",
    "datafile='datafiles/marks.txt' \n",
    "keyfile='datafiles/key.txt'\n",
    "encryptMarksData(datafile,keyfile)"
   ]
  },
  {
   "cell_type": "code",
   "execution_count": null,
   "metadata": {},
   "outputs": [],
   "source": [
    "0--+6\n",
    "1  7\n",
    "2 8\n",
    "3 9\n",
    "4 0\n",
    "5 1\n",
    "6 2\n",
    "7 3\n",
    "8 4\n",
    "9 5"
   ]
  },
  {
   "cell_type": "code",
   "execution_count": 3,
   "metadata": {},
   "outputs": [],
   "source": [
    "def decryptedMarksData(datafile,keyfile):\n",
    "    key=dictionaryKeyFile(keyfile)\n",
    "    newkey={}\n",
    "    for key,value in key.items():\n",
    "        newkey[value]=key\n",
    "    with open(datafile,'r') as f:\n",
    "        encrypteddata=f.read().split('\\n')\n",
    "    with open('datafiles/decrypteddata.txt','w') as f:\n",
    "        for encryptedmark in encrypteddata:\n",
    "            line=''\n",
    "            for n in encryptedmark:\n",
    "                line+=newkey[n]\n",
    "            f.write(line+'\\n')\n",
    "    return\n",
    "        \n",
    "                                         \n",
    "    \n",
    "datafile='datafiles/encryptedmarks.txt'  \n",
    "keyfile='datafiles/key.txt'\n",
    "decryptedMarksData(datafile,keyfile)"
   ]
  },
  {
   "cell_type": "code",
   "execution_count": 5,
   "metadata": {},
   "outputs": [
    {
     "data": {
      "text/plain": [
       "{'0', '1', '2', '3', '4', '5', '6', '7', '8', '9'}"
      ]
     },
     "execution_count": 5,
     "metadata": {},
     "output_type": "execute_result"
    }
   ],
   "source": [
    "# Comprehenisons\n",
    "\n",
    "keyfile='datafiles/key.txt'\n",
    "key=dictionaryKeyFile(keyfile)\n",
    "evenkeys={item for item in key}\n",
    "evenkeys"
   ]
  },
  {
   "cell_type": "code",
   "execution_count": null,
   "metadata": {},
   "outputs": [],
   "source": []
  },
  {
   "cell_type": "code",
   "execution_count": null,
   "metadata": {},
   "outputs": [],
   "source": []
  }
 ],
 "metadata": {
  "kernelspec": {
   "display_name": "Python 3",
   "language": "python",
   "name": "python3"
  },
  "language_info": {
   "codemirror_mode": {
    "name": "ipython",
    "version": 3
   },
   "file_extension": ".py",
   "mimetype": "text/x-python",
   "name": "python",
   "nbconvert_exporter": "python",
   "pygments_lexer": "ipython3",
   "version": "3.7.3"
  }
 },
 "nbformat": 4,
 "nbformat_minor": 2
}
